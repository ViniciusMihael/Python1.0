{
  "nbformat": 4,
  "nbformat_minor": 0,
  "metadata": {
    "colab": {
      "provenance": [],
      "authorship_tag": "ABX9TyPKZvKAtEG5v7wEFEsJyMpN",
      "include_colab_link": true
    },
    "kernelspec": {
      "name": "python3",
      "display_name": "Python 3"
    },
    "language_info": {
      "name": "python"
    }
  },
  "cells": [
    {
      "cell_type": "markdown",
      "metadata": {
        "id": "view-in-github",
        "colab_type": "text"
      },
      "source": [
        "<a href=\"https://colab.research.google.com/github/ViniciusMihael/Python1.0/blob/main/Python1.ipynb\" target=\"_parent\"><img src=\"https://colab.research.google.com/assets/colab-badge.svg\" alt=\"Open In Colab\"/></a>"
      ]
    },
    {
      "cell_type": "code",
      "source": [
        " print(\"Hello, World!\")"
      ],
      "metadata": {
        "id": "a36f8uuBQwQD"
      },
      "execution_count": null,
      "outputs": []
    },
    {
      "cell_type": "code",
      "source": [
        "nome = input(\"Digite o seu nome: \")\n",
        "print(f\"Seja muito bem-vindo {nome}!\")"
      ],
      "metadata": {
        "id": "3bwvvEDBQudu"
      },
      "execution_count": null,
      "outputs": []
    },
    {
      "cell_type": "code",
      "source": [
        "nome_funcionario = str(input(\"Digite o nome do funcionario: \"))\n",
        "salario = str(input(\"Digite o salario do funcionario: \"))\n",
        "print()\n",
        "print(f\"Nome do Funcionario: {nome_funcionario}\\nSalario: R${salario}\")\n",
        "\n",
        "print(f\"O funcionario {nome_funcionario} tem um salario de R${salario} em Julho!\")\n"
      ],
      "metadata": {
        "id": "VtijzwjRXF5S"
      },
      "execution_count": null,
      "outputs": []
    }
  ]
}