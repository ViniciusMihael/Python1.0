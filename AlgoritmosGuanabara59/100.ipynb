{
  "nbformat": 4,
  "nbformat_minor": 0,
  "metadata": {
    "colab": {
      "provenance": [],
      "authorship_tag": "ABX9TyMQtPpEhpJbBgkF/V6nWT+W",
      "include_colab_link": true
    },
    "kernelspec": {
      "name": "python3",
      "display_name": "Python 3"
    },
    "language_info": {
      "name": "python"
    }
  },
  "cells": [
    {
      "cell_type": "markdown",
      "metadata": {
        "id": "view-in-github",
        "colab_type": "text"
      },
      "source": [
        "<a href=\"https://colab.research.google.com/github/ViniciusMihael/Python1.0/blob/main/AlgoritmosGuanabara59/100.ipynb\" target=\"_parent\"><img src=\"https://colab.research.google.com/assets/colab-badge.svg\" alt=\"Open In Colab\"/></a>"
      ]
    },
    {
      "cell_type": "code",
      "execution_count": null,
      "metadata": {
        "id": "34HY7sYI4rjM"
      },
      "outputs": [],
      "source": [
        "'''ALgoritmo_1'''\n",
        "#Escreva na tela a mensagem \"Olá, Mundo!\"\n",
        "\n",
        "class OlaMundo:\n",
        "  def __init__(self,ola):\n",
        "    self.ola = ola\n",
        "\n",
        "  def exibir_mensagem(self):\n",
        "    print(f\"{self.ola}\")\n",
        "\n",
        "eu = OlaMundo(\"Olá, mundo!\")\n",
        "eu.exibir_mensagem()\n",
        "\n"
      ]
    },
    {
      "cell_type": "code",
      "source": [
        "'''Algoritmo_2'''\n",
        "#Crie um programa que leia o nome de uma pessoa e mostre uma mensagem de boas vindas para ela\n",
        "\n",
        "class Saudacao:\n",
        "  def __init__(self, nome):\n",
        "    self.nome = nome\n",
        "\n",
        "  def set_nome(self):\n",
        "    self.nome = input(\"Digite o seu nome: \")\n",
        "    return self.nome\n",
        "\n",
        "  def BoasVindas(self):\n",
        "    print(f\"Seja muito bem-vindo {self.nome}\")\n",
        "\n",
        "Pessoa = Saudacao(\"Umberto\")\n",
        "Pessoa.BoasVindas()\n"
      ],
      "metadata": {
        "id": "2Zt9MCgjVz1U"
      },
      "execution_count": null,
      "outputs": []
    },
    {
      "cell_type": "code",
      "source": [
        "#Exercicio 2 Refeito#\n",
        "\n",
        "from time import sleep\n",
        "\n",
        "class Nome:\n",
        "  def __init__(self,nome):\n",
        "    self._nome = nome\n",
        "    print(f\"Seja muito bem vindo {self._nome} \")\n",
        "\n",
        "  def boasVindas(self):\n",
        "\n",
        "    print(\"Pronto?\")\n",
        "    sleep(1)\n",
        "    print(\"3\")\n",
        "    sleep(1)\n",
        "    print(\"2\")\n",
        "    sleep(1)\n",
        "    print(\"1\")\n",
        "    sleep(1)\n",
        "\n",
        "\n",
        "    print(f\"Eai {self._nome} pronto para detonar ??\")\n",
        "\n",
        "eu = Nome(\"Vinicius\")\n",
        "eu.boasVindas()"
      ],
      "metadata": {
        "id": "NlAOHaB3JoiJ"
      },
      "execution_count": null,
      "outputs": []
    },
    {
      "cell_type": "code",
      "source": [
        "'''Algoritmo_3'''\n",
        "#Crie um programa que leia o nome e o salario de um funcionário, mostrando no final uma mensagem.\n",
        "\n",
        "from time import sleep\n",
        "\n",
        "class Salario:\n",
        "  def __init__(self,nome,valor_salario):\n",
        "    self._nome = nome\n",
        "    self._valor_salario = valor_salario\n",
        "\n",
        "  def CadastrarFuncionario(self):\n",
        "    self._nome = str(input(\"Digite o nome do funcionario: \"))\n",
        "    self._valor_salario = float(input(\"Digite o valor do salario: \"))\n",
        "    sleep(2)\n",
        "    print()\n",
        "    print(\"Funcionario cadastrado com sucesso!!!\")\n",
        "\n",
        "  def MostrarFuncionario(self):\n",
        "    print(f\"Nome: {self._nome}\")\n",
        "    print(f\"Salario: {self._valor_salario}\")\n",
        "\n",
        "\n",
        "Funcionario = Salario(\"Vini\",1000)"
      ],
      "metadata": {
        "id": "badTaQTbWaSL"
      },
      "execution_count": null,
      "outputs": []
    },
    {
      "cell_type": "code",
      "source": [
        "'''Algoritmo_4'''\n",
        "#Escreva um programa que leia dois numeros e escreva a somatoria entre eles\n",
        "class Soma:\n",
        "  def __init__(self,first,second):\n",
        "    self._first = first\n",
        "    self._second = second\n",
        "\n",
        "  def somatoria(self,first,second):\n",
        "    self._first = first\n",
        "    self._second = second\n",
        "    resultado = int(self._first + self._second);\n",
        "    return resultado\n",
        "\n",
        "eu = Soma(0,0)\n",
        "eu.somatoria(34,67)"
      ],
      "metadata": {
        "id": "S0o7ZLfD7nJn"
      },
      "execution_count": null,
      "outputs": []
    },
    {
      "cell_type": "code",
      "source": [
        "'''Algoritmo_5'''\n",
        "#Escreva um programa que leia duas notas de um aluno e mostre a sua media\n",
        "\n",
        "class Media:\n",
        "  def __init__(self, primeira, segunda):\n",
        "    self._primeira = primeira;\n",
        "    self._segunda = segunda;\n",
        "\n",
        "  def CalcularMedia(self,primeira,segunda):\n",
        "    self._primeira = primeira\n",
        "    self._segunda = segunda\n",
        "    resultado = float((primeira + segunda)/2)\n",
        "    return resultado;\n",
        "\n",
        "Aluno = Media(0,0)\n"
      ],
      "metadata": {
        "id": "TY3yFKFT8dlu"
      },
      "execution_count": null,
      "outputs": []
    },
    {
      "cell_type": "code",
      "source": [
        "'''Algoritmo_6'''\n",
        "#Crie um programa que leia e mostre na tela o sucessor e o antecessor de um numero\n",
        "number = int(input(\"Digite um numero: \"));\n",
        "print(\"O sucessor de {} e {} \\nO antecessor de {} e {}\".format(number,(number + 1),number,(number - 1)));"
      ],
      "metadata": {
        "id": "0xoAKzVi8d8d"
      },
      "execution_count": null,
      "outputs": []
    },
    {
      "cell_type": "code",
      "source": [
        "'''Algoritmo_7'''\n",
        "#Crie um programa que leia um numero real e mostre o seu dobro e a sua terça parte\n",
        "\n",
        "number = float(input(\"Digite um numero real qualquer: \"));\n",
        "print(\"O dobro de {} e igual {} \\nA terça parte de {} e igual {:.3f}\".format(number,(2*number),number,(number/3)));"
      ],
      "metadata": {
        "id": "rfuF-k5UlpvY"
      },
      "execution_count": null,
      "outputs": []
    },
    {
      "cell_type": "code",
      "source": [
        "'''Algoritmo_8'''\n",
        "#Crie um programa que leia a distância em metros e mostre os valores correspondentes em outras medidas\n",
        "\n",
        "number = float(input(\"Digite uma distância em metros: \"));\n",
        "print(\"A distância de {} corresponde a: \");\n",
        "print(\" {} Km \\n {} Hm \\n {} Dam \\n {} m \\n {} dm \\n {} cm \\n {} mm \".format(number/(10**3),number/(10**2),number/10,number,(number*10),(number*10**2),(number*10**3)))"
      ],
      "metadata": {
        "id": "Fdjvfyfem16Z"
      },
      "execution_count": null,
      "outputs": []
    },
    {
      "cell_type": "code",
      "source": [
        "'''Algoritmo_9'''\n",
        "#Crie um programa que leia quanto dinheiro uma pessoa tem na carteira (em R$) e mostre quantos dolares ela pode comprar considerando dola U$1,00 = R$3,45\n",
        "\n",
        "money = float(input(\"Quanto dinheiro em R$ você tem?: \"));\n",
        "print(\"Com R${} você pode comprar U${:.2f} dolares\".format(money,money/3,45));\n"
      ],
      "metadata": {
        "id": "VwkEoVAMrxkx"
      },
      "execution_count": null,
      "outputs": []
    },
    {
      "cell_type": "code",
      "source": [
        "'''Algoritmo_10'''\n",
        "#crie um algoritmo que leia a altura e largura de uma parede e dê a sau área e quantos litro de tinta será necessário para pinta-la sabendo que cada\n",
        "#1 litro de tinta pinta 2 metros quadrados\n",
        "\n",
        "high = float(input(\"Digite a altura da parede: \"));\n",
        "width = float(input(\"Digite a largura da parede: \"));\n",
        "answeer = high*width;\n",
        "print(\"Essa parede tem {} metros quadrados e será necessario {} litros de tinta\".format(answeer,answeer/2));\n"
      ],
      "metadata": {
        "id": "Ru4phO18biFK"
      },
      "execution_count": null,
      "outputs": []
    },
    {
      "cell_type": "code",
      "source": [
        "'''Algoritmo_11'''\n",
        "#Crie um programa que leia os valores de a,b e c de uma equação e dê o valor de Delta\n",
        "\n",
        "\n",
        "\n",
        "a = float(input(\"Digite o valor de 'a' : \"));\n",
        "b = float(input(\"Digite o valor de 'b' : \"));\n",
        "c = float(input(\"Digite o valor de 'c' : \"));\n",
        "\n",
        "delta = (b**2) - 4*a*c;\n",
        "\n",
        "print(\"-\"*30)\n",
        "if delta == 0:\n",
        "  print(\"So exite uma raiz real pra essa equção !!\")\n",
        "elif delta < 0:\n",
        "  print(\"Não existem raizes reais para essa equação!!\")\n",
        "else:\n",
        "  print(\"Existem duas raizes reais para essa equação !!\");\n",
        "\n",
        "print(\"*\"*20)\n",
        "print(\"O Delta dessa equação do segundo grau e igual a : {}\".format(delta));\n",
        "print(\"*\"*20)"
      ],
      "metadata": {
        "id": "CzfXmOnrK4fV"
      },
      "execution_count": null,
      "outputs": []
    },
    {
      "cell_type": "code",
      "source": [
        "'''Algoritmo_12'''\n",
        "#Crie um programa que leia o valor de um produto e calcule o valor novo com desconto de 5%\n",
        "\n",
        "print(\"Você ganhou 5% de desconto!!!\")\n",
        "product = float(input(\"Digite o valor do produto: \"))\n",
        "discount = product/100 * 5\n",
        "print(\"Você irá pagar nesse produto R${}\".format(product - discount))"
      ],
      "metadata": {
        "id": "icgyw1xdN5XG"
      },
      "execution_count": null,
      "outputs": []
    },
    {
      "cell_type": "code",
      "source": [
        "'''ALgoritmo_13'''\n",
        "#Crie um programa que leia o salario de um funcionario e mostre o aumento de 15% no seu salario\n",
        "\n",
        "money = float(input(\"Digite o seu salario em reais R$: \"));\n",
        "increase = money/100 * 15;\n",
        "print(\"O seu salario depois do aumento de 15%  e igual a R${}\".format(increase+money));"
      ],
      "metadata": {
        "id": "vCvJTRSwhQgc"
      },
      "execution_count": null,
      "outputs": []
    },
    {
      "cell_type": "code",
      "source": [
        "'''Algoritmo_14'''\n",
        "#crie um algoritmo que leia quantos km o carro rodou e por quantos dias ele foi alugado sabendo que o cliente paga R$90 por dia e R$0,20 por Km rodado\n",
        "\n",
        "km = float(input(\"Quantos Km o carro percorreu? : \"));\n",
        "days = int(input(\"Por quantos dias ele foi alugado? : \"));\n",
        "kmT = km*0.20\n",
        "daysT = days*90\n",
        "print(\"O valor da quantidade de dias é R${} e dos Km rodados são R${} é o total a ser pago e R${}\".format(daysT,kmT,(daysT + kmT)));"
      ],
      "metadata": {
        "id": "aTmFPmkeil7q"
      },
      "execution_count": null,
      "outputs": []
    },
    {
      "cell_type": "code",
      "source": [
        "'''Algoritmo_15'''\n",
        "#Crie um programa que leia o numero de dias que um funcionario trabalhou e mostre na tela o salario dele, sabendo que ele trabalha 8 horas por dia e ganha R$25,00 por hora\n",
        "\n",
        "days = int(input(\"digite quantos dias de trabalho você teve: \"));\n",
        "wage = (8*25)*days;\n",
        "print(\"O salario desse funcionario e igual a R${}\".format(wage));"
      ],
      "metadata": {
        "id": "-pQYGWSuksR0"
      },
      "execution_count": null,
      "outputs": []
    },
    {
      "cell_type": "code",
      "source": [
        "'''Algoritmo_16'''\n",
        "#crie um programa que calcule a quantos dias de vida um fumante perderá sabendo que cada cigarro e igual a  -10 min de vida\n",
        "\n",
        "ciga = int(input(\"Quantos cigarros por dia você fuma? : \"));# Aqui ele pega a quantidade de cigarros e muda pra minutos perdidos, no caso -10 min\n",
        "years = int(input(\"A quantos anos você ja fuma assim? : \"));# Aqui ele pega a quantidade de anos com essa mesma quantidade de cigarros por dia\n",
        "life = ciga*10 #Aqui ele multiplica os cigarros tendo assim o valor em minutos\n",
        "live = life*(365*years) #Aqui ele multiplica pelos anos que ele fumou essa mesma quantidade de cigarros e tem o valor em minutos\n",
        "print(\"Esse fumante perderá em sua vida {:.0f} dias de vida\".format(live/1440))"
      ],
      "metadata": {
        "id": "IYK_Tiz9SAAC"
      },
      "execution_count": null,
      "outputs": []
    },
    {
      "cell_type": "code",
      "source": [
        "'''Algoritmo_17'''\n",
        "#Crie um programa que pergunte a velocidade de um carro Se ultrapassar 80 Km/h o motorista irá pagar R$5,00 a cada km passado do limite\n",
        "\n",
        "speed = float(input(\"Digite a velocidade do carro: \"));\n",
        "if speed >80:\n",
        "  print(\"Você foi multado!!!\");\n",
        "  valor = (speed - 80) *5\n",
        "  print(\"Você irá pagar R${} de multa por velocidade\".format(valor));\n",
        "else:\n",
        "  print(\"Sempre dirija com segurança!!:)\");\n",
        "\n"
      ],
      "metadata": {
        "id": "6sEKNCOytFlK"
      },
      "execution_count": null,
      "outputs": []
    },
    {
      "cell_type": "code",
      "source": [
        "'''Algoritmo_18'''\n",
        "#Crie um programa que leia o ano de nascimento de uma pessoa e depois veja se ela pode ou não votar\n",
        "\n",
        "ano = int(input(\"Digite o seu ano de nascimento: \"))\n",
        "idade = 2023 - ano\n",
        "print(\"A idade do candidato é {} anos de idade!!\".format(idade))\n",
        "print(\"-\"*20)\n",
        "if idade >= 18 and idade < 65 :\n",
        "  print(\"Candidato pode votar!!\");\n",
        "elif idade >= 16 and idade < 18 or idade >= 65:\n",
        "  print(\"Voto opcional!!\");\n",
        "else:\n",
        "  print(\"Não pode votar!!\");\n",
        "\n",
        "\n"
      ],
      "metadata": {
        "id": "Rb3dksp5vePC"
      },
      "execution_count": null,
      "outputs": []
    },
    {
      "cell_type": "code",
      "source": [
        "'''Algoritmo_19'''\n",
        "#Crie um programa que leia as duas notas de um aluno e mostre a tela a média dele, é se ele teve um bom aprovetamento (média 7.0)\n",
        "\n",
        "name = str(input(\"Digite o nome do aluno: \"));\n",
        "first = float(input(\"Qual foi a primeira nota?: \"));\n",
        "second = float(input(\"Qual foi a segunda nota?: \"));\n",
        "\n",
        "average = (first + second)/2;\n",
        "\n",
        "print(\"A média do aluno {} e igual a {} \". format(name,average))\n",
        "\n",
        "\n",
        "\n",
        "if average >= 7:\n",
        "  print(\"Aluno aprovado!!\")\n",
        "elif average < 7 and average > 0:\n",
        "  print(\"Aluno de Recuperação!!\")\n",
        "else:\n",
        "  print(\"Aluno Reprovado!!!\")\n",
        "\n"
      ],
      "metadata": {
        "id": "Df_9gzoeJPFJ"
      },
      "execution_count": null,
      "outputs": []
    },
    {
      "cell_type": "code",
      "source": [
        "'''Algoritmo_20'''\n",
        "#Crie um programa qua leia um numero e verifique se ele e par ou impar\n",
        "\n",
        "num = float(input(\"digite um numero para verificar se ele e par ou impar: \"))\n",
        "if (num % 2) == 0:\n",
        "  print(\"Esse número e par!!!\")\n",
        "else:\n",
        "  print(\"Esse número e impar!!!\")"
      ],
      "metadata": {
        "id": "38KGFVsHMozv"
      },
      "execution_count": null,
      "outputs": []
    },
    {
      "cell_type": "code",
      "source": [
        "'''Algoritmo_21'''\n",
        "#Crie um programa que leia um ano e veja se ele e bisexto ou não\n",
        "\n",
        "year = int(input(\"Digite o ano para ver se ele é ou não bisexto: \"))\n",
        "if (year % 4) == 0:\n",
        "  print(\"Esse ano é bisexto !!\")\n",
        "else:\n",
        "  print(\"Esse ano NÃO é bisexto!!\")"
      ],
      "metadata": {
        "id": "3NYUOoifOGbp"
      },
      "execution_count": null,
      "outputs": []
    },
    {
      "cell_type": "code",
      "source": [
        "'''Algoritmo_22'''\n",
        "#crie um programa que leia a idade de uma pessoa e fale a sua situação com o alistamento militar se ja pode se alistar quanto tempo falta ou quanto tempo já passou\n",
        "\n",
        "nasc = int(input(\"Digite a seu ano de nascimento: \"))\n",
        "idad = 2023 - nasc\n",
        "if idad == 18:\n",
        "  print(\"Ele tem 18 anos, está no momento certo para se alistar!\")\n",
        "elif idad > 18:\n",
        "  print(\"Ele já tem {} anos já passou do tempo de se alista faz {} anos\".format(idad, idad -18))\n",
        "else:\n",
        "  print(\"Ele ainda tem {} anos, falta {} anos para ele se alistar\".format(idad, 18 - idad))\n"
      ],
      "metadata": {
        "id": "yZ3kq-XyncXm"
      },
      "execution_count": null,
      "outputs": []
    },
    {
      "cell_type": "code",
      "source": [
        "'''Algoritmo_23'''\n",
        "#Crie um programa que leia o nome o valor da compra e o sexo e dê desconto de 13% para mulheres e 5% para homens\n",
        "\n",
        "people = str(input(\"Digite o seu nome: \"))\n",
        "vlr = float(input(\"Qual o valor das suas compras :\"))\n",
        "sexy = str(input(\"Digite o seu sexo (masc/fem): \"))\n",
        "if sexy.lower() == \"fem\":\n",
        "  total = vlr - (vlr/100)*13\n",
        "  print(\"Meus Parabens pelo seu dia você acaba e ganhar 13% de você irá pagar {}\".format(total))\n",
        "else:\n",
        "  every = (vlr/100)*5 - vlr\n",
        "  print(\"Parabens voeê acaba de ganhar 5% de desconto você irá pagar {}\".format(every))"
      ],
      "metadata": {
        "id": "kcgzl-iWlXM-"
      },
      "execution_count": null,
      "outputs": []
    },
    {
      "cell_type": "code",
      "source": [
        "'''Algoritmo_24'''\n",
        "# Faça um algoritmo que pergunte a distância que um passageiro deseja percorrer em Km. Calcule o preço da passagem, cobrando R$0.50 por Km para viagens até 200Km e R$0.45 para viagens mais longas.\n",
        "\n",
        "num = float(input(\"Digite a distãncia que irá ser percorrida: \"));\n",
        "if num < 200:\n",
        "  print('O valor a ser pago por está distância e igual a R${}'.format(num*0.50))\n",
        "else:\n",
        "  print('O valor a ser pago por está distância e igual a R${}'.format(num*0.45))"
      ],
      "metadata": {
        "id": "l9Q0b3o0fkCl"
      },
      "execution_count": null,
      "outputs": []
    },
    {
      "cell_type": "code",
      "source": [
        "'''Algoritmo_25'''\n",
        "#25) [DESAFIO] Crie um programa que leia o tamanho de três segmentos de reta. Analise seus comprimentos e diga se é possível formar um triângulo com essas retas. Matematicamente, para três segmentos formarem um triângulo, o comprimento de cada lado deve ser menor que a soma dos outros dois.\n",
        "\n",
        "n1 = float(input(\"Digite um tamanho para o primeiro lado: \"))\n",
        "n2 = float(input(\"Digite um tamanho para o segundo lado: \"))\n",
        "n3 = float(input(\"Digite o tamanho do terceiro lado: \"))\n",
        "if n1 + n2 < n3 or n1 + n3 < n2 or n2 + n3 < n1:\n",
        "  print(\"Não forma um triângulo!\")\n",
        "else:\n",
        "  print(\"Forma um triângulo!!\")\n",
        "\n"
      ],
      "metadata": {
        "id": "KhyOCrC3fjuH"
      },
      "execution_count": null,
      "outputs": []
    },
    {
      "cell_type": "code",
      "source": [
        "'''Algoritmo_26'''\n",
        "#Escreva um algoritmo que leia dois números inteiros e compare-os, mostrando na tela uma das mensagens abaixo: - O primeiro valor é o maior - O segundo valor é o maior - Não existe valor maior, os dois são iguais\n",
        "\n",
        "n1 = float(input(\"digite um numero: \"));\n",
        "n2 = float(input(\"Digite outro numero: \"));\n",
        "if n1 > n2:\n",
        "  print(\"O primeiro valor {} e maior que o segundo {}\".format(n1,n2))\n",
        "elif n2 > n1:\n",
        "  print(\"O segundo valor {} e maior que o primeiro {}\".format(n2,n1))\n",
        "else:\n",
        "  print(\"Os dois valores são iguais a {}\".format(n1))"
      ],
      "metadata": {
        "id": "aeTYzptmkLbI"
      },
      "execution_count": null,
      "outputs": []
    },
    {
      "cell_type": "code",
      "source": [
        "'''Algoritmo_27'''\n",
        "#crie um programa que leia duas notas de um aluno e calcule a sua média, mostrando uma mensagem de acordo com a media atingido#\n",
        "\n",
        "media1 = float(input(\"Digite a primeira nota do aluno: \"))\n",
        "media2 = float(input(\"Digite a segunda nota do aluno: \"))\n",
        "mediaAluno = (media1 + media2)/2\n",
        "\n",
        "if mediaAluno < 5.0:\n",
        "  print(\"REPROVADO!!\")\n",
        "\n",
        "elif mediaAluno >= 5.0 or mediaAluno < 7.0:\n",
        "  print(\"RECUPERAÇÃO!!!\")\n",
        "\n",
        "else:\n",
        "  print(\"APROVADO!!\")"
      ],
      "metadata": {
        "id": "o-qkDnDtyFgs"
      },
      "execution_count": null,
      "outputs": []
    },
    {
      "cell_type": "code",
      "source": [
        "'''Algoritmo_28'''\n",
        "#Faça um programa que leia a largura e o comprimento de um terreno  retangular, calculando e mostrando a sua área em m². O programa também deve mostrar a classificação desse terreno, de acordo com a lista abaixo:\n",
        "\n",
        "width = float(input(\"Digite a largura do terreno: \"))\n",
        "length = float(input(\"Digite o comprimento do terreno: \"))\n",
        "terreno = (width*length)\n",
        "\n",
        "print(\"-=\"*20)\n",
        "print(f\"Esse Terreno tem {terreno}m²\")\n",
        "if terreno < 100:\n",
        "  print(\"TERRENO POPULAR!\")\n",
        "elif terreno >= 100 and terreno <= 500:\n",
        "  print(\"TERRENO MASTER!!\")\n",
        "else:\n",
        "  print(\"TERRENO VIP\")\n",
        "\n",
        "print(\"-=\"*20)\n"
      ],
      "metadata": {
        "id": "0dR8t-AxyFqX"
      },
      "execution_count": null,
      "outputs": []
    },
    {
      "cell_type": "code",
      "source": [
        "'''Algoritmo_29'''\n",
        "#Desenvolva um programa que leia o nome de um funcionário, seu salário, quantos anos ele trabalha na empresa e mostre seu novo salário, reajustado de acordo com a tabela a seguir:\n",
        "\n",
        "nome = str(input(\"Digite o nome do funcionario: \"))\n",
        "salario = float(input(\"Digite o salario dele: \"))\n",
        "anos = float(input(\"A Quantos anos ele trabalha na empresa: \"))\n",
        "\n",
        "if anos < 3 :\n",
        "  print(f\"Você receberá um aumento de 3% no salario saindo de {salario} para {(salario*3)/100 + salario}\")\n",
        "elif anos >= 3 and anos < 10:\n",
        "  print(f\"Você receberá um aumento de 12.5% no salario saindo de {salario} para {(salario*12.5)/100 + salario}\")\n",
        "else:\n",
        "  print(f\"Você receberá um aumento de 20% no salario saindo de {salario} para {(salario*20)/100 + salario}\")"
      ],
      "metadata": {
        "id": "khnqwnF7yGJE"
      },
      "execution_count": null,
      "outputs": []
    },
    {
      "cell_type": "code",
      "source": [
        "'''Algoritmo_30'''\n",
        "#Refaça o algoritmo 25, acrescentando o recurso de mostrar que tipo de triângulo será formado:\n",
        "\n",
        "reta1 = float(input(\"Digite o valor da primeira reta: \"))\n",
        "reta2 = float(input(\"Digite o valor da segunda reta: \"))\n",
        "reta3 = float(input(\"Digite o valor da terceira reta: \"))\n",
        "\n",
        "print(\"-=\"*20)\n",
        "\n",
        "if reta1 + reta2 > reta3 and reta2 + reta3 > reta1 and reta1 + reta3 > reta2:\n",
        "  print(\"Forma um triângulo!\")\n",
        "\n",
        "  if reta1 == reta2 and reta2 == reta3:\n",
        "    print(\"É um triângulo Equilatero!\")\n",
        "  elif reta1 == reta2 and reta2 != reta3 or reta3 == reta1 and reta3 != reta2:\n",
        "    print(\"E um triângulo Isosceles\")\n",
        "  else:\n",
        "    print(\"E um triângulo Escaleno!\")\n",
        "\n",
        "else:\n",
        "  print(\"Não forma um triângulo!\")"
      ],
      "metadata": {
        "id": "btB4CrPPMvGh"
      },
      "execution_count": null,
      "outputs": []
    },
    {
      "cell_type": "code",
      "source": [
        "'''Algoritmo_31'''\n",
        "#Crie um jogo de pedra, papel e tesoura!\n",
        "\n",
        "from random import randint\n",
        "from time import sleep\n",
        "\n",
        "itens = (\"pedra\",\"papel\",\"tesoura\") #Criei uma lista de itens com as escolhas possiveis\n",
        "computador = randint(0,2) # uma variavel que vai escolher um numero aleatorio\n",
        "print('''Suas opções\n",
        "[0] Pedra\n",
        "[1] Papel\n",
        "[2] Tesoura''')\n",
        "jogador = int(input(\"Qual vai ser a sua jogada?: \")) # Uma variavel que recebe a escolha do jogador\n",
        "print(\"JO\")\n",
        "sleep(1)\n",
        "print(\"KEN\")\n",
        "sleep(1)\n",
        "print(\"PO!!!!\")\n",
        "\n",
        "print(\"-=\"*12)\n",
        "print(f\"O computador jogou {itens[computador]}\") #Aqui\n",
        "print(f\"O jogador jogou {itens[jogador]}\")\n",
        "print(\"-=\"*12)\n",
        "\n",
        "if computador == 0: #computador escolheu Pedra\n",
        "  if jogador == 0:\n",
        "    print(\"Empate!!!\")\n",
        "  elif jogador == 1: #Jogador escolheu papel\n",
        "    print(\"Jogador Ganhou!!!\")\n",
        "  elif jogador == 2: #Jogador escolheu tesoura\n",
        "    print(\"Computador Ganhou!!\")\n",
        "  else:\n",
        "    print(\"Jogada Invalida!!\")\n",
        "\n",
        "elif computador == 1: #computador escolheu Papel\n",
        "  if jogador == 0:\n",
        "    print(\"O computador Ganhou!!\")\n",
        "  elif jogador == 1:\n",
        "    print(\"Empate!!\")\n",
        "  elif jogador == 2:\n",
        "    print(\"Jogador Ganhou!!\")\n",
        "  else:\n",
        "    print(\"Jogada Invalida!!\")\n",
        "\n",
        "elif computador == 2: #computador escolheu tesoura\n",
        "  if jogador == 0:\n",
        "    print(\"Jogador Ganhou!!\")\n",
        "  elif jogador == 1:\n",
        "    print(\"Computador Ganhou!!!\")\n",
        "  elif jogador == 2:\n",
        "    print(\"Empate!!!\")\n",
        "  else:\n",
        "    print(\"Jogada Invalida!!\")"
      ],
      "metadata": {
        "id": "2qiSYSnLMvP1"
      },
      "execution_count": null,
      "outputs": []
    },
    {
      "cell_type": "code",
      "source": [
        "# Jogo de papel e tesoura\n",
        "from random import randint\n",
        "from time import sleep\n",
        "\n",
        "\n",
        "itens =  [\"Pedra\",\"Papel\",\"Tesoura\"]\n",
        "computador = randint(0,2)\n",
        "print(computador)\n",
        "\n",
        "print(\"*\"*20)\n",
        "print(\"JO-KEN-PO!!\")\n",
        "print(\"*\"*20)\n",
        "print('''\n",
        "[o] Pedra\n",
        "[1] Papel\n",
        "[2] Tesoura''')\n",
        "\n",
        "print(\"*\"*20)\n",
        "\n",
        "jogador = int(input(\"Qual sua jogada: \"))\n",
        "\n",
        "print(\"*\"*20)\n",
        "\n",
        "print()\n",
        "\n",
        "print(\"JO\")\n",
        "sleep(1)\n",
        "print(\"KEN\")\n",
        "sleep(1)\n",
        "print(\"PO!!\")\n",
        "\n",
        "print()\n",
        "\n",
        "print(f\"O computador escolheu {itens[computador]}!\")\n",
        "print(f\"Você escolheu {itens[jogador]}!\")\n",
        "\n",
        "print()\n",
        "\n",
        "\n",
        "\n",
        "\n",
        "\n",
        "if computador == 0: #Escolheu pedra\n",
        "  if jogador == 0:\n",
        "    print(\"EMPATE!!\")\n",
        "  elif jogador == 1: #Escolheu papel\n",
        "    print(\"Jogador Ganhou !!\")\n",
        "  elif jogador == 2: #escolheu Tesoura\n",
        "    print(\"Computador Ganhou !!\")\n",
        "  elif jogador < 0:\n",
        "    print(\"Jogada invalida\")\n",
        "  elif jogador > 2:\n",
        "    print(\"Caralho\")\n",
        "\n",
        "elif computador == 1:\n",
        "  if jogador == 1:\n",
        "    print(\"EMPATE!!\")\n",
        "  elif jogador == 0:\n",
        "    print(\"Computador Ganhou !!\")\n",
        "  elif jogador == 2:\n",
        "    print(\"Jogador Ganhou !! \")\n",
        "  elif jogador < 0:\n",
        "    print(\"Jogada Invalida\")\n",
        "  elif jogador > 2:\n",
        "    print(\"Caralho\")\n",
        "\n",
        "\n",
        "elif computador == 2:\n",
        "  if jogador == 2:\n",
        "    print(\"EMPATE!!\")\n",
        "  elif jogador == 0:\n",
        "    print(\"Jogador Ganhou !!\")\n",
        "  elif jogador == 1:\n",
        "    print(\"Computador Ganhou !!\")\n",
        "  elif jogador < 0:\n",
        "    print(\"Jogada Invalida\")\n",
        "  elif jogador > 2:\n",
        "    print(\"Caralho\")\n",
        "\n",
        "\n",
        "#print(f\"computador escolheu {itens[computador]}\")\n"
      ],
      "metadata": {
        "id": "x602E_59GG-s"
      },
      "execution_count": null,
      "outputs": []
    },
    {
      "cell_type": "code",
      "source": [
        "''''Algoritmo_32'''\n",
        "\n",
        "\n",
        "from random import randint\n",
        "\n",
        "\n",
        "computador = randint(1,5)\n",
        "print(computador)\n",
        "\n",
        "acerto = False\n",
        "\n",
        "print(\"Tente advinhar o numero que o computador escolheu de 1 a 5: \")\n",
        "\n",
        "print(\"*\"*25)\n",
        "\n",
        "while not acerto:\n",
        "  chute = int(input(\"Qual e o seu chute?: \"))\n",
        "\n",
        "  if chute == computador:\n",
        "    print(\"Parabens você acertou!!\")\n",
        "    acerto = True\n",
        "\n",
        "  elif chute < computador:\n",
        "    print(\"chute baixo\")\n",
        "\n",
        "  elif chute > computador:\n",
        "    print(\"Chute alto\")\n",
        "\n"
      ],
      "metadata": {
        "id": "qYKsjYIrP9Wy"
      },
      "execution_count": null,
      "outputs": []
    },
    {
      "cell_type": "code",
      "source": [
        "#33) Escreva um programa para aprovar ou não o empréstimo bancário para a compra\n",
        "#de uma casa. O programa vai perguntar o valor da casa, o salário do comprador e\n",
        "#em quantos anos ele vai pagar. Calcule o valor da prestação mensal, sabendo que\n",
        "#ela não pode exceder 30% do salário ou então o empréstimo será negado.#\n",
        "\n",
        "import time\n",
        "\n",
        "class Emprestimo:\n",
        "  def __init__(self,casa,salario,anos):\n",
        "    self._casa = casa\n",
        "    self._salario = salario\n",
        "    self._anos = anos\n",
        "    self._aprovado = False\n",
        "\n",
        "  def valorMensal(self):\n",
        "    valor = int(self._casa/(12*self._anos))\n",
        "    if valor > (self._salario/100)*30:\n",
        "      print(\"O valor mensal ultrapassa 30% do salario!\")\n",
        "      print(f\"o valor e igual a R${valor}\")\n",
        "      print(\"Emprestimo Negado!!\")\n",
        "    else:\n",
        "      self._aprovado = True\n",
        "      print(\"Emprestimo Aceito !!!\")\n",
        "      print(f\"O valor e igual a R${valor}\")\n",
        "\n",
        "eu = Emprestimo(10000,2000,3)\n",
        "\n",
        "\n",
        "def main():\n",
        "  casa = int(input(\"Qual o valor da casa: \"))\n",
        "  salario = int(input(\"Qual o valor do seu salario: \"))\n",
        "  anos = int(input(\"Quantos anos você espera pagar essa casa: \"))\n",
        "\n",
        "  print()\n",
        "\n",
        "  cliente = Emprestimo(casa,salario,anos)\n",
        "\n",
        "  print(\"Um momento!\")\n",
        "  time.sleep(1)\n",
        "  print(\"Estamos processando suas informações!\")\n",
        "  time.sleep(1)\n",
        "  print()\n",
        "\n",
        "  cliente.valorMensal()\n",
        "\n",
        "\n",
        "\n",
        "if __name__ == \"__main__\":\n",
        "  main()"
      ],
      "metadata": {
        "id": "4_9zcueWtdOf"
      },
      "execution_count": null,
      "outputs": []
    },
    {
      "cell_type": "code",
      "source": [
        "#Ex 34) O Índice de Massa Corpórea (IMC) é um valor calculado baseado na altura e n#\n",
        "#peso de uma pessoa. De acordo com o valor do IMC, podemos classificar o#\n",
        "#indivíduo dentro de certas faixas.#\n",
        "\n",
        "\n",
        "\n",
        "\n",
        "class IMC:\n",
        "    def __init__(self,altura,peso):\n",
        "        self._altura = altura\n",
        "        self._peso = peso\n",
        "\n",
        "    def CalcularIMC(self):\n",
        "        IMC = self._peso / (self._altura ** 2)\n",
        "\n",
        "        if IMC < 18.5:\n",
        "            print(\"Abaixo do peso\")\n",
        "\n",
        "        elif IMC > 18.5 and IMC < 25:\n",
        "            print(\"Peso ideal\")\n",
        "\n",
        "        elif IMC > 25 and IMC < 30:\n",
        "            print(\"Sobrepeso\")\n",
        "\n",
        "        elif IMC > 30 and IMC < 40:\n",
        "            print(\"Obesidade\")\n",
        "        else:\n",
        "            print(\"Obesidade Mórbida\")\n",
        "\n",
        "\n",
        "eu = IMC(1.76, 75)\n",
        "eu.CalcularIMC()\n"
      ],
      "metadata": {
        "id": "alOd_q_FhWPL"
      },
      "execution_count": null,
      "outputs": []
    },
    {
      "cell_type": "code",
      "source": [
        "#Ex 35) Uma empresa de aluguel de carros precisa cobrar pelos seus serviços. O #\n",
        "#aluguel de um carro custa R$90 por dia para carro popular e R$150 por dia para#\n",
        "#carro de luxo. Além disso, o cliente paga por Km percorrido. Faça um programa#\n",
        "#que leia o tipo de carro alugado (popular ou luxo), quantos dias de aluguel e #\n",
        "#quantos Km foram percorridos. No final mostre o preço a ser pago de acordo com a#\n",
        "#tabela a seguir:#\n",
        "\n",
        "class Aluguel:\n",
        "  def __init__(self, tipoCarro, dias, km):\n",
        "    self._tipoCarro = tipoCarro\n",
        "    self._dias = dias\n",
        "    self._km = km\n",
        "\n",
        "  def TipoCarro(self):\n",
        "    carro = input(\"Qual foi o tipo do carro que você alugoul (popular/luxo)?: \")\n",
        "    dia = int(input(\"Quantos dias ele ficou emprestado?: \"))\n",
        "    distancia = int(input(\"Quantos Km ele percorreu?: \"))\n",
        "\n",
        "    print()\n",
        "\n",
        "    if carro.lower() == \"popular\":\n",
        "      self._dia = dia * 90;\n",
        "      print(f\"total a pagar pelos dias R${self._dia}\")\n",
        "\n",
        "      if distancia > 100:\n",
        "          self._km = distancia * 0.10\n",
        "          print(f\"total acima de 100km: R${self._km}\")\n",
        "\n",
        "      else:\n",
        "          self._km = distancia * 0.20\n",
        "          print(f\" total abaixo de 100km:  R${self._km}\")\n",
        "\n",
        "    if carro.lower() == \"luxo\":\n",
        "      self._dia = dia * 150;\n",
        "      print(f\"Total a pagar pelos dias e R${self._dia}\")\n",
        "\n",
        "      if distancia > 200:\n",
        "        self._km = distancia * 0,25;\n",
        "        print(f\"total acima de  200km: R${self._km}\")\n",
        "\n",
        "      else:\n",
        "        self._km = distancia * 0.30;\n",
        "        print(f\"Total abaixo de 200km: R${self._km}\")\n",
        "\n",
        "\n",
        "\n",
        "\n",
        "#Fazer de uma forma que só precise responder as perguntas e ja vá direto para o resultado\n",
        "\n"
      ],
      "metadata": {
        "id": "fAr6TPZLiCiQ"
      },
      "execution_count": null,
      "outputs": []
    },
    {
      "cell_type": "code",
      "source": [
        "#Ex (36\n",
        "#O PROGRAMA VAI LER A QUANTIDADE DE HORAS DE ATIVIDADE FISICA NO MES DO CLIENTE\n",
        "#SE PASSAR DA META ESTABELECIDA ELE GANHA PONTOS QUE VÃO DEPENDER DA QUANTIDADE DE HORAS DE EXERCICIOS FEITA POR ELE NO MES\n",
        "#E CADA PONTO DESSE VAI VALER 0.05(CENTAVOS)\n",
        "#O PROGRAMA TEM QUE MOSTRAR QUANTOS PONTOS PONTOS NO MES ELE CONSEGUIU E QUANTO ELE CONSEGUE EM DINHEIRO\n",
        "\n",
        "class VidaSaudavel:\n",
        "  def __init__(self,horas,pontos):\n",
        "    self._horas = horas\n",
        "    self._pontos = pontos\n",
        "\n",
        "  def main():\n",
        "\n",
        "    horas = int(input(\"Quantas horas de exercicio fisico por mes você fez? \"))\n",
        "    pontos = 0\n",
        "\n",
        "    if horas <= 10:\n",
        "      print(f\"você teve {horas} horas de exercicio por mes\")\n",
        "      pontos += (2*horas)\n",
        "\n",
        "    elif horas > 10 and horas <= 20:\n",
        "      print(f\"Você teve {horas} horas de exercicio por mes\")\n",
        "      pontos += (5*horas)\n",
        "\n",
        "    else:\n",
        "      print(f\"Você teve {horas} horas de ex por mes\")\n",
        "      pontos += (10*horas)\n",
        "\n",
        "\n",
        "\n",
        "    print(f\"Seus pontos: {pontos}# \")\n",
        "    Ganho = pontos * 0.05\n",
        "    print(f\"Você ganhou R${Ganho}\")\n",
        "\n",
        "\n",
        "  if __name__ == \"__main__\":\n",
        "    main()"
      ],
      "metadata": {
        "id": "U3fmvavdrsIB"
      },
      "execution_count": null,
      "outputs": []
    },
    {
      "cell_type": "code",
      "source": [
        "#37) Uma empresa precisa reajustar o salário dos seus funcionários, dando um\n",
        "#aumento de acordo com alguns fatores. Faça um programa que leia o salário atual,\n",
        "#o gênero do funcionário e há quantos anos esse funcionário trabalha na empresa.\n",
        "#No final, mostre o seu novo salário, baseado na tabela a seguir\n",
        "\n",
        "\n",
        "class AjusteSalarial:\n",
        "  def __init__(self,genero,tempo_empresa,salario):\n",
        "    self._genero = genero\n",
        "    self._tempo_empresa = tempo_empresa\n",
        "    self._salario = salario\n",
        "\n",
        "  def Ajusta_Salario(self):\n",
        "\n",
        "    porcentagem_ajuste = 0\n",
        "\n",
        "    if self._genero.lower() == \"feminino\":\n",
        "\n",
        "      if self._tempo_empresa < 15:\n",
        "        #print(\"aumentou 5%\")\n",
        "        porcentagem_ajuste += 5\n",
        "\n",
        "      elif self._tempo_empresa >= 15 and self._tempo_empresa <= 20:\n",
        "        #print(\"aumento de 12%\")\n",
        "        porcentagem_ajuste += 12\n",
        "\n",
        "      else:\n",
        "        #print(\"aumento de 20%\")\n",
        "        porcentagem_ajuste += 20\n",
        "\n",
        "    elif self._genero.lower() == \"masculino\":\n",
        "\n",
        "      if self._tempo_empresa < 20:\n",
        "        #print(\"aumento de 3%\")\n",
        "        porcentagem_ajuste += 3\n",
        "\n",
        "      elif self._tempo_empresa >= 20 and self._tempo_empresa <= 30:\n",
        "        #print(\"aumento de 13%\")\n",
        "        porcentagem_ajuste += 13\n",
        "\n",
        "      else:\n",
        "        #print(\"aumento de 25%\")\n",
        "        porcentagem_ajuste += 25\n",
        "\n",
        "    print(f\"Gênero do funcionario: {self._genero};\")\n",
        "    print(f\"Tempo na empresa: {self._tempo_empresa} anos\")\n",
        "    print(f\"salario atual: R${self._salario} ;\")\n",
        "    print(f\"depois do ajuste: R${((self._salario/100)*porcentagem_ajuste) + self._salario}\")\n",
        "\n",
        "eu = AjusteSalarial(\"Masculino\",15,100)\n",
        "\n",
        "eu.Ajusta_Salario()"
      ],
      "metadata": {
        "id": "lW-BTsKwiflE"
      },
      "execution_count": null,
      "outputs": []
    },
    {
      "cell_type": "code",
      "source": [
        "#38) Escreva um programa que mostre na tela a seguinte contagem:\n",
        "# 6 7 8 9 10 11 Acabou!\n",
        "\n",
        "for i in range(6,12): # Aqui eu usei o \"for(ou para)\" para assim fazer a lista de numeros\n",
        "  print(i, end=\" \") # onde o 'i' e o intervalo e o \"end=\"\" \" e para melhorar a leitura do codigo\n",
        "print(\"Acabou!\")  # Aqui so irá se repetir uma vez, pois não está no looping\n"
      ],
      "metadata": {
        "id": "XskUc3oVjsuF"
      },
      "execution_count": null,
      "outputs": []
    },
    {
      "cell_type": "code",
      "source": [
        "#39) Faça um algoritmo que mostre na tela a seguinte contagem:\n",
        "#10 9 8 7 6 5 4 3 Acabou!\n",
        "\n",
        "for i in range(10, 2, -1):\n",
        "  print(i, end=\" \")\n",
        "print(\"Acabou!\")"
      ],
      "metadata": {
        "id": "s_NPA3RHtAlK"
      },
      "execution_count": null,
      "outputs": []
    },
    {
      "cell_type": "code",
      "source": [
        "#40) Crie um aplicativo que mostre na tela a seguinte contagem:\n",
        "#0 3 6 9 12 15 18 Acabou!\n",
        "\n",
        "for i in range (0, 19, 3):\n",
        "  print(i, end=\" \")\n",
        "print(\"Acabou!\")\n"
      ],
      "metadata": {
        "id": "mO8yZ6KGq8yh"
      },
      "execution_count": null,
      "outputs": []
    },
    {
      "cell_type": "code",
      "source": [
        "#41) Desenvolva um programa que mostre na tela a seguinte contagem:\n",
        "#100 95 90 85 80 ... 0 Acabou!\n",
        "\n",
        "for i in range(100,-1, -5):\n",
        "  print(i, end=\" \")\n",
        "print(\"Acabou!\")"
      ],
      "metadata": {
        "id": "my3nlseLrq7L"
      },
      "execution_count": null,
      "outputs": []
    },
    {
      "cell_type": "code",
      "source": [
        "#42) Faça um algoritmo que pergunte ao usuário um número inteiro e positivo\n",
        "#qualquer e mostre uma contagem até esse valor:\n",
        "#Ex: Digite um valor: 35\n",
        "#Contagem: 1 2 3 4 5 6 7 ... 33 34 35 Acabou!\n",
        "\n",
        "\n",
        "class contagem:\n",
        "  def __init__(self,numero):\n",
        "    self._numero = numero\n",
        "\n",
        "  def main():\n",
        "    numero = int(input(\"Digite um valor: \"))\n",
        "\n",
        "    for i in range(1,numero + 1):\n",
        "      print(i,end=\" \")\n",
        "    print(\"Acabou!\")\n",
        "\n",
        "  if __name__ == \"__main__\":\n",
        "    main()"
      ],
      "metadata": {
        "id": "gstrEmPbsM2X"
      },
      "execution_count": null,
      "outputs": []
    },
    {
      "cell_type": "code",
      "source": [
        "#43) Desenvolva um algoritmo que mostre uma contagem regressiva de 30 até 1,\n",
        "#marcando os números que forem divisíveis por 4, exatamente como mostrado abaixo:\n",
        "#30 29 [28] 27 26 25 [24] 23 22 21 [20] 19 18 17 [16]...\n",
        "\n",
        "\n",
        "for i in range (30,-1,-1):\n",
        "  if i%4 == 0:\n",
        "    print(f\"[{i}]\", end=\" \")\n",
        "  else:\n",
        "    print(i, end=\" \")"
      ],
      "metadata": {
        "id": "2BhzAKWKvd-6"
      },
      "execution_count": null,
      "outputs": []
    },
    {
      "cell_type": "code",
      "source": [
        "#44) Crie um algoritmo que leia o valor inicial da contagem, o valor final e o\n",
        "#incremento, mostrando em seguida todos os valores no intervalo:\n",
        "#Ex: Digite o primeiro Valor: 3\n",
        "#Digite o último Valor: 10\n",
        "#Digite o incremento: 2\n",
        "#Contagem: 3 5 7 9 Acabou!\n",
        "\n",
        "#45) O programa acima vai ter um problema quando digitarmos o primeiro valor\n",
        "#maior que o último. Resolva esse problema com um código que funcione em qualquer\n",
        "#situação.\n",
        "\n",
        "\n",
        "inicio = int(input(\"Digite o primeiro valor: \"))\n",
        "final = int(input(\"Digite o ultimo valor: \"))\n",
        "passos = int(input(\"Digite o incremento: \"))\n",
        "\n",
        "print(\"Contagem:\",end=\" \")\n",
        "\n",
        "\n",
        "if inicio > final:\n",
        "  for i in range(inicio,final - 1, - passos):\n",
        "    print(i, end=\" \")\n",
        "\n",
        "else:\n",
        "  for i in range(inicio,final + 1,passos):\n",
        "\n",
        "    print(i, end =\" \")\n",
        "\n",
        "  #print(\"Contagem: {}\".format(i, end=\" \"))\n",
        "print(\"Acabou!\")\n",
        "\n",
        "\n"
      ],
      "metadata": {
        "id": "NzjcFzzehr8t"
      },
      "execution_count": null,
      "outputs": []
    },
    {
      "cell_type": "code",
      "source": [
        "#46) Crie um programa que calcule e mostre na tela o resultado da soma entre 6 +\n",
        "#8 + 10 + 12 + 14 + ... + 98 + 100.\n",
        "\n",
        "resultado = 0\n",
        "\n",
        "for i in range(6,101,2):\n",
        "  print(i, end=\" + \")\n",
        "  resultado += i\n",
        "\n",
        "print(f\"A soma e igual a {resultado}\")"
      ],
      "metadata": {
        "id": "Lrn--HuIn3I9"
      },
      "execution_count": null,
      "outputs": []
    },
    {
      "cell_type": "code",
      "source": [
        "#47) Desenvolva um aplicativo que mostre na tela o resultado da expressão 500 +\n",
        "#450 + 400 + 350 + 300 + ... + 50 + 0\n",
        "\n",
        "\n",
        "soma = 0\n",
        "\n",
        "for i in range(500,-1,-50):\n",
        "  print(i, end=\" + \")\n",
        "  soma += i\n",
        "\n",
        "print(f\"A soma desses valores e igual a {soma}\")"
      ],
      "metadata": {
        "id": "pScLsf37ltCe"
      },
      "execution_count": null,
      "outputs": []
    },
    {
      "cell_type": "code",
      "source": [
        "#48) Faça um programa que leia 7 números inteiros e no final mostre o somatório\n",
        "#entre eles.\n",
        "\n",
        "\n",
        "soma = 0\n",
        "\n",
        "for i in range(7):\n",
        "  numero = int(input(\"Digite um numero: \"))\n",
        "  soma += numero\n",
        "\n",
        "print(f\"A soma desses numeros e igual a {soma}\")"
      ],
      "metadata": {
        "id": "__Wpvsh1s5mt"
      },
      "execution_count": null,
      "outputs": []
    },
    {
      "cell_type": "code",
      "source": [
        "#49) Crie um programa que leia 6 números inteiros e no final mostre quantos deles\n",
        "#são pares e quantos são ímpares.\n",
        "\n",
        "\n",
        "pares = 0\n",
        "impares = 0\n",
        "\n",
        "\n",
        "for i in range(6):\n",
        "  numero = int(input(\"Digite um numero inteiro: \"))\n",
        "  if numero%2 == 0:\n",
        "    pares += 1\n",
        "\n",
        "  else:\n",
        "    impares += 1\n",
        "\n",
        "print(f\"foram digitados numeros {pares} pares e {impares} numeros impares\")"
      ],
      "metadata": {
        "id": "n66T7VMZuUbY"
      },
      "execution_count": null,
      "outputs": []
    },
    {
      "cell_type": "code",
      "source": [
        "#50) Desenvolva um programa que faça o sorteio de 20 números entre 0 e 10 e\n",
        "#mostre na tela:\n",
        "#a) Quais foram os números sorteados\n",
        "#b) Quantos números estão acima de 5\n",
        "#c) Quantos números são divisíveis por 3\n",
        "\n",
        "\n",
        "import random\n",
        "\n",
        "acima_de_cinco = 0\n",
        "divisivel_por_tres = 0\n",
        "\n",
        "print(\"Os numeros sorteados foram: \", end=\"\")\n",
        "\n",
        "for i in range(20):\n",
        "  numeros_sorteados = random.randint(0,10)\n",
        "  print(numeros_sorteados, end=\" \")\n",
        "\n",
        "  if numeros_sorteados > 5:\n",
        "    acima_de_cinco += 1\n",
        "\n",
        "  if numeros_sorteados% 3 == 0:\n",
        "    divisivel_por_tres += 1\n",
        "\n",
        "print(\"\\n\")\n",
        "print(f\"Existem {acima_de_cinco} numeros acima de 5\")\n",
        "print(f\"Existem {divisivel_por_tres} numeros divisiveis por 3\")\n"
      ],
      "metadata": {
        "id": "nA93FgaRvpbe"
      },
      "execution_count": null,
      "outputs": []
    },
    {
      "cell_type": "code",
      "source": [
        "#51) Faça um aplicativo que leia o preço de 8 produtos. No final, mostre na tela\n",
        "#qual foi o maior e qual foi o menor preço digitados.\n",
        "\n",
        "\n",
        "produtos = []\n",
        "\n",
        "for i in range(8):\n",
        "  produto = float(input(f\"Digite o valor do produto {i + 1}: \"))\n",
        "  produtos.append(produto)\n",
        "\n",
        "maior = produtos[0]\n",
        "menor = produtos[0]\n",
        "\n",
        "for produto in produtos:\n",
        "  if produto > maior:\n",
        "    maior = produto\n",
        "  if produto < menor:\n",
        "    menor = produto\n",
        "\n",
        "\n",
        "\n",
        "print()\n",
        "print(f\"O maior valor digitado foi R${(maior):.2f}\")\n",
        "print(f\"O menor valor digitado foi R${(menor):.2f}\")\n"
      ],
      "metadata": {
        "id": "bEkZ4pHaapjC"
      },
      "execution_count": null,
      "outputs": []
    },
    {
      "cell_type": "code",
      "source": [
        "#52) Crie um algoritmo que leia a idade de 10 pessoas, mostrando no final:\n",
        "#a) Qual é a média de idade do grupo\n",
        "#b) Quantas pessoas tem mais de 18 anos\n",
        "#c) Quantas pessoas tem menos de 5 anos\n",
        "#d) Qual foi a maior idade lida\n",
        "\n",
        "\n",
        "idades = []\n",
        "\n",
        "\n",
        "\n",
        "soma_idade = 0\n",
        "maiores_18 = 0\n",
        "menores_5 = 0\n",
        "\n",
        "\n",
        "for i in range(10):\n",
        "  idade = int(input(f\"Qual a idade da pessoa {i + 1}: \"))\n",
        "  idades.append(idade)\n",
        "\n",
        "maior_idade = idades[0]\n",
        "\n",
        "for idade in idades:\n",
        "  soma_idade += idade\n",
        "\n",
        "  if idade > 18:\n",
        "    maiores_18 += 1\n",
        "\n",
        "  if idade < 5:\n",
        "    menores_5 += 1\n",
        "\n",
        "  if idade > maior_idade:\n",
        "    maior_idade = idade\n",
        "\n",
        "\n",
        "print()\n",
        "print(f\"A media de idade do grupo e de {int(soma_idade/len(idades))} anos \")\n",
        "print(f\"Tem {maiores_18} pessoas maiores de 18 anos\")\n",
        "print(f\"Tem {menores_5} pessoas menores de 5 anos\")\n",
        "print(f\"A maior idade lida foi de {maior_idade} anos\")"
      ],
      "metadata": {
        "id": "34iYIaWfV4es"
      },
      "execution_count": null,
      "outputs": []
    },
    {
      "cell_type": "code",
      "source": [
        "#Algoritmo 52 Refeito usando funções\n",
        "\n",
        "idades = []\n",
        "\n",
        "for i in range(10):\n",
        "  idade = int(input(f\"Digite a Idade da {i + 1}° pessoa: \"))\n",
        "  idades.append(idade)\n",
        "\n",
        "\n",
        "def Media(idades):\n",
        "  media = 0\n",
        "  for i in idades:\n",
        "    media = media + i\n",
        "    media_total = media/ len(idades)\n",
        "\n",
        "  print(media_total)\n",
        "\n",
        "def Maior_18(idades):\n",
        "  pessoas = 0\n",
        "  for i in idades:\n",
        "    if i >= 18:\n",
        "      pessoas += 1\n",
        "\n",
        "  return pessoas\n",
        "\n",
        "def Menor_5(idades):\n",
        "  criancas = 0\n",
        "  for i in idades:\n",
        "    if i <= 5:\n",
        "      criancas += 1\n",
        "\n",
        "  return criancas\n",
        "\n",
        "def Maior_idade(idades):\n",
        "  maior = 0\n",
        "  for i in idades:\n",
        "    if i > maior:\n",
        "      maior = i\n",
        "\n",
        "  return maior\n",
        "\n",
        "print(f\"{idades}\",end=' ')"
      ],
      "metadata": {
        "id": "3hTYLwAV2MnN"
      },
      "execution_count": null,
      "outputs": []
    },
    {
      "cell_type": "code",
      "source": [
        "# Algoritmo 53 Faça um programa que leia a idade e o sexo de 5 pessoas, mostrando no final\n",
        "\n",
        "#Refazer e Comentar oque cada ação faz logo ao lado do codigo para assim ter mais clareza e nitidez no algoritmo\n",
        "\n",
        "idades= []\n",
        "sexos = []\n",
        "\n",
        "idade_homens = []\n",
        "mulheres_acima_20 = 0\n",
        "\n",
        "for i in range(5):\n",
        "  idade = int(input(f\"Qual a idade da {i+1}° pessoa: \"))\n",
        "  sexo = str(input(f\"Qual e o sexo da {i+1}° pessoa: \")).capitalize()\n",
        "  idades.append(idade)\n",
        "  sexos.append(sexo)\n",
        "\n",
        "  if sexo == \"Homem\":\n",
        "    idade_homens.append(idade)\n",
        "\n",
        "  elif sexo == \"Mulher\":\n",
        "    if idade > 20:\n",
        "      mulheres_acima_20 += 1\n",
        "\n",
        "print(f\"idades: {idades}\",end=\"\")\n",
        "print()\n",
        "print(sexos, end=\"\")\n",
        "\n",
        "def Homens_cadastrados(sexos): # Aqui essa função conta quantos homens foram cadastrados\n",
        "  homens = 0\n",
        "  for i in sexos:\n",
        "    if i == \"Homem\":\n",
        "      homens += 1\n",
        "\n",
        "\n",
        "  print(f\"foram cadastrados {homens} homens\")\n",
        "\n",
        "def Mulheres_cadastradas(sexos): #Aqui essa função conta quantas mulheres foram cadastrados\n",
        "  mulheres = 0\n",
        "  for i in sexos:\n",
        "    if i == \"Mulher\":\n",
        "      mulheres += 1\n",
        "\n",
        "  return mulheres\n",
        "\n",
        "def Media_idades(idades):\n",
        "  soma = 0\n",
        "  for i in idades:\n",
        "    soma = soma + i\n",
        "    media = soma/ len(idades)\n",
        "  return media\n",
        "\n",
        "def MulheresMais20(mulheres_acima_20):\n",
        "  print(f\"Existem nessa lista {mulheres_acima_20} mulheres com mais de 20 anos\")"
      ],
      "metadata": {
        "id": "jsoIyjfzy6K4"
      },
      "execution_count": null,
      "outputs": []
    },
    {
      "cell_type": "code",
      "source": [
        "# Algoritmo 54 Desenvolva um aplicativo que leia o peso e a altura de 7 pessoas, mostrando\n",
        "#no final:\n",
        "#a) Qual foi a média de altura do grupo\n",
        "#b) Quantas pessoas pesam mais de 90Kg\n",
        "#c) Quantas pessoas que pesam menos de 50Kg tem menos de 1.60m\n",
        "#d) Quantas pessoas que medem mais de 1.90m pesam mais de 100Kg.\n",
        "\n",
        "\n",
        "pesos = []\n",
        "alturas = []\n",
        "\n",
        "for i in range(7):\n",
        "  peso = float(input(f\"Digite o peso da {i+1}° pessoa: \"))\n",
        "  altura = float(input(f\"Digte a altura da {i+1}° pessoa: \"))\n",
        "  pesos.append(peso)\n",
        "  alturas.append(altura)\n",
        "\n",
        "print(pesos)\n",
        "print(alturas)\n",
        "\n",
        "\n",
        "alturas = [1.45,1.34,1.89]\n",
        "pesos = [45,49,90]\n",
        "\n",
        "def Media_altura(alturas):\n",
        "  soma = 0\n",
        "  for i in alturas:\n",
        "    soma = i + soma\n",
        "    media = soma / len(alturas)\n",
        "\n",
        "  print(f\"{media:.2f}\")\n",
        "\n",
        "\n",
        "def Mais_90(pesos_):\n",
        "  pessoas_90 = 0\n",
        "  for i in pesos_:\n",
        "    if i >= 90:\n",
        "      pessoas_90 += 1\n",
        "\n",
        "  return pessoas_90\n",
        "\n",
        "Mais_90(pesos)\n",
        "\n",
        "def Menos50_160(alturas,pesos):\n",
        "  contagem = 0\n",
        "  for altura, peso in zip(alturas, pesos):\n",
        "    if peso < 50 and altura < 1.60:\n",
        "      contagem += 1\n",
        "\n",
        "print(contagem)\n",
        "\n",
        "def Mais90_mais100(alturas,pesos)\n",
        "  pessoas = 0\n",
        "  for altura, peso in zip(alturas,pesos):\n",
        "    if altura > 1.90 and peso > 100:\n",
        "      pessoas += 1"
      ],
      "metadata": {
        "id": "zj3Q4UP8V5Fp"
      },
      "execution_count": null,
      "outputs": []
    },
    {
      "cell_type": "code",
      "source": [
        "#55) [DESAFIO] Vamos melhorar o jogo que fizemos no exercício 32. A partir de\n",
        "#agora, o computador vai sortear um número entre 1 e 10 e o jogador vai ter 4\n",
        "#tentativas para tentar acertar\n",
        "\n",
        "\n",
        "from random import randint\n",
        "\n",
        "resposta = randint(1,10)\n",
        "\n",
        "print(\"*\"*45)\n",
        "print(\"Bem vindo ao jogo de advinhação de numeros\")\n",
        "print(\"*\"*45)\n",
        "print()\n",
        "print(\"Tente acertar com um chute de 1 a 10\")\n",
        "print(\"Boa sorte!!!\")\n",
        "print()\n",
        "\n",
        "\n",
        "for i in range(0,4):\n",
        "  jogador = int(input(f\"Digite a {i + 1}° tentativa: \"))\n",
        "  if jogador == resposta:\n",
        "    print(\"Parabens você acertou !!!\")\n",
        "    break\n",
        "\n",
        "  elif jogador > resposta:\n",
        "    print(\"Chutou alto!\")\n",
        "  elif jogador < resposta:\n",
        "    print(\"Chutou baixo!\")\n",
        "\n",
        "print()\n",
        "print(f\"Acabaram as tentativas o numero era {resposta}\")\n",
        "\n"
      ],
      "metadata": {
        "id": "KYyEtAV0Digr"
      },
      "execution_count": null,
      "outputs": []
    },
    {
      "cell_type": "code",
      "source": [
        "#56) Crie um programa que leia vários números pelo teclado e mostre no final o\n",
        "#somatório entre eles.\n",
        "#Obs: O programa será interrompido quando o número 1111 for digitado\n",
        "\n",
        "somatoria = 0\n",
        "\n",
        "while True:\n",
        "  numero = int(input(\"Digite um numero (ou 1111 para parar): \"))\n",
        "\n",
        "  if numero == 1111:\n",
        "    break\n",
        "\n",
        "  somatoria += numero\n",
        "\n",
        "print(f\"A soma de todos o numeros digitados  igual a {somatoria}\")\n"
      ],
      "metadata": {
        "id": "klLd084bsqjm"
      },
      "execution_count": null,
      "outputs": []
    },
    {
      "cell_type": "code",
      "source": [
        "#57) Desenvolva um aplicativo que leia o salário e o sexo de vários funcionários.\n",
        "#No final, mostre o total de salários pagos aos homens e o total pago às\n",
        "#mulheres. O programa vai perguntar ao usuário se ele quer continuar ou não\n",
        "#sempre que ler os dados de um funcionário.\n",
        "\n",
        "\n",
        "Salario_homens = 0\n",
        "Salario_mulheres = 0\n",
        "\n",
        "while True:\n",
        "  Salario = input(\"Qual e o salario desse funcionario: \")\n",
        "  sexo = input(\"Qual e o sexo desse funcionario(F/M): \")\n",
        "\n",
        "  if sexo ==\"F\":\n",
        "    Salario_mulheres += 1\n",
        "\n",
        "  elif sexo ==\"M\":\n",
        "    Salario_homens += 1\n",
        "\n",
        "  continuar = input(\"Deseja continuar?(S/N): \")\n",
        "\n",
        "  if continuar == \"N\":\n",
        "    break\n",
        "\n",
        "print(f\"Foram {Salario_homens} salarios para homens e {Salario_mulheres} salarios para mulheres \")"
      ],
      "metadata": {
        "id": "mqaaw_JjuRlZ"
      },
      "execution_count": null,
      "outputs": []
    },
    {
      "cell_type": "code",
      "source": [
        "#58) Faça um algoritmo que leia a idade de vários alunos de uma turma. O programa\n",
        "#vai parar quando for digitada a idade 999. No final, mostre quantos alunos\n",
        "#existem na turma e qual é a média de idade do grupo.\n",
        "\n",
        "\n",
        "alunos = 0\n",
        "idades = []\n",
        "somatoria = 0\n",
        "\n",
        "while True:\n",
        "\n",
        "  aluno = int(input(\"Digite a idade desse aluno: \"))\n",
        "\n",
        "  if aluno == 999:\n",
        "    break\n",
        "\n",
        "  alunos += 1\n",
        "  idades.append(aluno)\n",
        "  somatoria += int(aluno)\n",
        "\n",
        "\n",
        "print(f\"Alunos {alunos}\")\n",
        "print(f\"Idades {idades}\")\n",
        "print(f\"Media {somatoria/alunos}\")"
      ],
      "metadata": {
        "id": "ErQmxbGowE2B"
      },
      "execution_count": null,
      "outputs": []
    },
    {
      "cell_type": "code",
      "source": [
        "\n",
        "idades = []\n",
        "maior_idade = 0\n",
        "\n",
        "homens = []\n",
        "qut_homens = 0\n",
        "\n",
        "mulheres = []\n",
        "\n",
        "\n",
        "\n",
        "while True:\n",
        "  sexo = input(\"Digite o sexo da pessoa (M/F): \").upper()\n",
        "  idade = int(input(\"Digite a idade da pessoa: \"))\n",
        "  idades.append(idade)\n",
        "\n",
        "  # Maior idade de todas as lidas\n",
        "  if idade > maior_idade:\n",
        "      maior_idade = idade\n",
        "\n",
        "  # Numero de homens cadastrados\n",
        "\n",
        "  if sexo ==\"M\":\n",
        "    homens.append(idade)\n",
        "    qut_homens += 1\n",
        "\n",
        "  # Cadastro de mulheres\n",
        "\n",
        "  if sexo == \"F\":\n",
        "    mulheres.append(idade)\n",
        "    mulher_mais_jovem = mulheres[0]\n",
        "\n",
        "    for i in mulheres:\n",
        "      if i < mulher_mais_jovem:\n",
        "        mulher_mais_jovem = i\n",
        "\n",
        "  # Mulher mais jovem\n",
        "\n",
        "  continuar = input(\"Deseja continuar(S/N): \")\n",
        "  if continuar != \"S\":\n",
        "    break\n",
        "\n",
        "print()\n",
        "print(f\"Maior idade é {maior_idade}\")\n",
        "print(f\"A quantidade de homens cadastrados e igual a {qut_homens}\")\n",
        "print(f\"Mulher mais jovem e tem {mulher_mais_jovem} ano\")\n",
        "\n",
        "# O ALGORITMO VAI LER O SEXO E A IDADE DE VARIAS PESSOAS E PERGUNTAR SE DESEJA CONTINUAR\n",
        "# ELE VAI LER TODAS AS IDADES E VERIFICAR DE TODAS, QUAL E A MAIOR\n",
        "# QUANTOS HOMENS SE CADASTRARAM\n",
        "# QUAL A IDADE DA MULHER MAIS JOVEM\n",
        "# QUAL A MEDIA DE IDADE DE TODOS OS HOMENS CADASTRADOS\n",
        "\n"
      ],
      "metadata": {
        "id": "Sdtg-CDPC6WD"
      },
      "execution_count": null,
      "outputs": []
    },
    {
      "cell_type": "code",
      "source": [
        "\n",
        "\n",
        "idades = []\n",
        "\n",
        "def Main():\n",
        "\n",
        "  while True:\n",
        "    idade = int(input(\"Digite a idade da pessoa: \"))\n",
        "    idades.append(idade)\n",
        "\n",
        "    continuar = input(\"(S/N)\")\n",
        "    if continuar == \"N\":\n",
        "      break\n",
        "\n",
        "Main()\n"
      ],
      "metadata": {
        "id": "ItjNZg5Ct8YN"
      },
      "execution_count": null,
      "outputs": []
    },
    {
      "cell_type": "code",
      "source": [
        "class Cadastro:\n",
        "  def __init___(self, homens,muleres,idades):\n",
        "    homens = []\n",
        "    mulheres = []\n",
        "    idades = []\n",
        "\n",
        "  def Cadastrar(self):\n",
        "    sexo = input(\"Qual o sexo da pessoa(M/F): \")\n",
        "    idade = int(input(\"Qual a idade da pessoa: \"))\n",
        "    idades.append(idade)\n",
        "\n",
        "    if sexo.upper() == \"M\":\n",
        "      homens.append(idade)\n",
        "\n",
        "    if sexo.upper() == \"F\":\n",
        "      mulheres.append(idade)\n",
        "\n",
        "    print(homens)\n",
        "    print(mulheres)\n",
        "    print(idades)\n",
        "\n",
        "\n",
        "  def MaiorIdade(idades):\n",
        "    for i in idades:\n",
        "      if i > maior:\n",
        "        maior = i\n",
        "        print(maior)\n",
        "\n",
        "\n",
        "Eu = Cadastro()"
      ],
      "metadata": {
        "id": "5CW2DS2vDQgq"
      },
      "execution_count": null,
      "outputs": []
    },
    {
      "cell_type": "code",
      "source": [
        "Eu.Cadastrar()"
      ],
      "metadata": {
        "id": "4ljfXLnvMXEv"
      },
      "execution_count": null,
      "outputs": []
    }
  ]
}